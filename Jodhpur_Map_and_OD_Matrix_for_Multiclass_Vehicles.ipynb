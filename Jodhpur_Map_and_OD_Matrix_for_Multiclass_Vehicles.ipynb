{
  "nbformat": 4,
  "nbformat_minor": 0,
  "metadata": {
    "colab": {
      "provenance": [],
      "authorship_tag": "ABX9TyOFjLytBaqga9Lm2ukSa1Jz",
      "include_colab_link": true
    },
    "kernelspec": {
      "name": "python3",
      "display_name": "Python 3"
    },
    "language_info": {
      "name": "python"
    }
  },
  "cells": [
    {
      "cell_type": "markdown",
      "metadata": {
        "id": "view-in-github",
        "colab_type": "text"
      },
      "source": [
        "<a href=\"https://colab.research.google.com/github/AditiSatsangi/Jodhpur-Map-and-OD-Matrix-for-Multiclass-Vehicles/blob/main/Jodhpur_Map_and_OD_Matrix_for_Multiclass_Vehicles.ipynb\" target=\"_parent\"><img src=\"https://colab.research.google.com/assets/colab-badge.svg\" alt=\"Open In Colab\"/></a>"
      ]
    },
    {
      "cell_type": "code",
      "source": [
        "!pip install folium\n",
        "\n"
      ],
      "metadata": {
        "id": "W2VsRss_05FA",
        "colab": {
          "base_uri": "https://localhost:8080/"
        },
        "outputId": "e9507a1a-1ce9-4046-e88d-6f3642c8d818"
      },
      "execution_count": 30,
      "outputs": [
        {
          "output_type": "stream",
          "name": "stdout",
          "text": [
            "Looking in indexes: https://pypi.org/simple, https://us-python.pkg.dev/colab-wheels/public/simple/\n",
            "Requirement already satisfied: folium in /usr/local/lib/python3.10/dist-packages (0.14.0)\n",
            "Requirement already satisfied: branca>=0.6.0 in /usr/local/lib/python3.10/dist-packages (from folium) (0.6.0)\n",
            "Requirement already satisfied: jinja2>=2.9 in /usr/local/lib/python3.10/dist-packages (from folium) (3.1.2)\n",
            "Requirement already satisfied: numpy in /usr/local/lib/python3.10/dist-packages (from folium) (1.22.4)\n",
            "Requirement already satisfied: requests in /usr/local/lib/python3.10/dist-packages (from folium) (2.27.1)\n",
            "Requirement already satisfied: MarkupSafe>=2.0 in /usr/local/lib/python3.10/dist-packages (from jinja2>=2.9->folium) (2.1.2)\n",
            "Requirement already satisfied: urllib3<1.27,>=1.21.1 in /usr/local/lib/python3.10/dist-packages (from requests->folium) (1.26.15)\n",
            "Requirement already satisfied: certifi>=2017.4.17 in /usr/local/lib/python3.10/dist-packages (from requests->folium) (2022.12.7)\n",
            "Requirement already satisfied: charset-normalizer~=2.0.0 in /usr/local/lib/python3.10/dist-packages (from requests->folium) (2.0.12)\n",
            "Requirement already satisfied: idna<4,>=2.5 in /usr/local/lib/python3.10/dist-packages (from requests->folium) (3.4)\n"
          ]
        }
      ]
    },
    {
      "cell_type": "code",
      "source": [
        "pip install folium pandas geopandas numpy"
      ],
      "metadata": {
        "colab": {
          "base_uri": "https://localhost:8080/"
        },
        "id": "0njJdpjRz7VB",
        "outputId": "8438fa94-29c8-47fa-da9d-266792b12ac3"
      },
      "execution_count": 31,
      "outputs": [
        {
          "output_type": "stream",
          "name": "stdout",
          "text": [
            "Looking in indexes: https://pypi.org/simple, https://us-python.pkg.dev/colab-wheels/public/simple/\n",
            "Requirement already satisfied: folium in /usr/local/lib/python3.10/dist-packages (0.14.0)\n",
            "Requirement already satisfied: pandas in /usr/local/lib/python3.10/dist-packages (1.5.3)\n",
            "Requirement already satisfied: geopandas in /usr/local/lib/python3.10/dist-packages (0.13.2)\n",
            "Requirement already satisfied: numpy in /usr/local/lib/python3.10/dist-packages (1.22.4)\n",
            "Requirement already satisfied: branca>=0.6.0 in /usr/local/lib/python3.10/dist-packages (from folium) (0.6.0)\n",
            "Requirement already satisfied: jinja2>=2.9 in /usr/local/lib/python3.10/dist-packages (from folium) (3.1.2)\n",
            "Requirement already satisfied: requests in /usr/local/lib/python3.10/dist-packages (from folium) (2.27.1)\n",
            "Requirement already satisfied: python-dateutil>=2.8.1 in /usr/local/lib/python3.10/dist-packages (from pandas) (2.8.2)\n",
            "Requirement already satisfied: pytz>=2020.1 in /usr/local/lib/python3.10/dist-packages (from pandas) (2022.7.1)\n",
            "Requirement already satisfied: fiona>=1.8.19 in /usr/local/lib/python3.10/dist-packages (from geopandas) (1.9.4.post1)\n",
            "Requirement already satisfied: packaging in /usr/local/lib/python3.10/dist-packages (from geopandas) (23.1)\n",
            "Requirement already satisfied: pyproj>=3.0.1 in /usr/local/lib/python3.10/dist-packages (from geopandas) (3.5.0)\n",
            "Requirement already satisfied: shapely>=1.7.1 in /usr/local/lib/python3.10/dist-packages (from geopandas) (2.0.1)\n",
            "Requirement already satisfied: attrs>=19.2.0 in /usr/local/lib/python3.10/dist-packages (from fiona>=1.8.19->geopandas) (23.1.0)\n",
            "Requirement already satisfied: certifi in /usr/local/lib/python3.10/dist-packages (from fiona>=1.8.19->geopandas) (2022.12.7)\n",
            "Requirement already satisfied: click~=8.0 in /usr/local/lib/python3.10/dist-packages (from fiona>=1.8.19->geopandas) (8.1.3)\n",
            "Requirement already satisfied: click-plugins>=1.0 in /usr/local/lib/python3.10/dist-packages (from fiona>=1.8.19->geopandas) (1.1.1)\n",
            "Requirement already satisfied: cligj>=0.5 in /usr/local/lib/python3.10/dist-packages (from fiona>=1.8.19->geopandas) (0.7.2)\n",
            "Requirement already satisfied: six in /usr/local/lib/python3.10/dist-packages (from fiona>=1.8.19->geopandas) (1.16.0)\n",
            "Requirement already satisfied: MarkupSafe>=2.0 in /usr/local/lib/python3.10/dist-packages (from jinja2>=2.9->folium) (2.1.2)\n",
            "Requirement already satisfied: urllib3<1.27,>=1.21.1 in /usr/local/lib/python3.10/dist-packages (from requests->folium) (1.26.15)\n",
            "Requirement already satisfied: charset-normalizer~=2.0.0 in /usr/local/lib/python3.10/dist-packages (from requests->folium) (2.0.12)\n",
            "Requirement already satisfied: idna<4,>=2.5 in /usr/local/lib/python3.10/dist-packages (from requests->folium) (3.4)\n"
          ]
        }
      ]
    },
    {
      "cell_type": "markdown",
      "source": [
        "**Importing** **Libraries**"
      ],
      "metadata": {
        "id": "eeLwLArcw6pW"
      }
    },
    {
      "cell_type": "code",
      "source": [
        "import folium\n",
        "import pandas as pd\n",
        "import geopandas as gpd\n",
        "import numpy as np\n",
        "from folium.plugins import HeatMap\n",
        "from PIL import Image\n",
        "import random\n"
      ],
      "metadata": {
        "id": "0D_PmBce1dXe"
      },
      "execution_count": 32,
      "outputs": []
    },
    {
      "cell_type": "markdown",
      "source": [
        "Data Collection"
      ],
      "metadata": {
        "id": "QlxqOfYyxR4y"
      }
    },
    {
      "cell_type": "code",
      "source": [
        "\n",
        "jodhpur_shapefile = '/absolute/path/to/jodhpur_shapefile.shp'\n",
        "\n"
      ],
      "metadata": {
        "id": "UpobPBMPpdZm"
      },
      "execution_count": 33,
      "outputs": []
    },
    {
      "cell_type": "markdown",
      "source": [
        "Calculating OD distance"
      ],
      "metadata": {
        "id": "8uJeeo_DxYX-"
      }
    },
    {
      "cell_type": "code",
      "source": [
        "from geopy.distance import geodesic\n",
        "\n",
        "def calculate_od_value(origin, destination):\n",
        "    origin_lat, origin_lon = origin\n",
        "    dest_lat, dest_lon = destination\n",
        "    origin_point = (origin_lat, origin_lon)\n",
        "    dest_point = (dest_lat, dest_lon)\n",
        "    distance = geodesic(origin_point, dest_point).km\n",
        "    return distance\n"
      ],
      "metadata": {
        "id": "Bz5RmNZhtLkE"
      },
      "execution_count": 34,
      "outputs": []
    },
    {
      "cell_type": "code",
      "source": [
        "# NODE POINTS\n",
        "#26.266712, 73.010014 -H\n",
        "#C-26.271594, 73.015733- rail - C\n",
        "#26.267382, 73.019237- taj har -D\n",
        "#26.273162, 73.020501- bsnl-F\n",
        "#26.272427, 73.008131- A - goyalhospital- A\n",
        "#122, East Rd122, East RdSardarpura, Jodhpur, Rajasthan 342003 26.275052, 73.012987-G\n",
        "#26.269826, 73.007718- B\n",
        "#Rajasthan 342001 26.269270, 73.018931 -E"
      ],
      "metadata": {
        "id": "g4ldLowNpd1Z"
      },
      "execution_count": 35,
      "outputs": []
    },
    {
      "cell_type": "markdown",
      "source": [
        "Creating Origin and Destination Coordinates in Jodhpur City"
      ],
      "metadata": {
        "id": "jdif7NATx7Pc"
      }
    },
    {
      "cell_type": "code",
      "source": [
        "# Create a list of origin and destination coordinates in Jodhpur city\n",
        "# Taking Latitude and Longitudes of the node points\n",
        "origins = [(26.266712, 73.010014), (26.271594, 73.015733), (26.267382, 73.019237), (26.273162, 73.020501)]  # Add the latitude and longitude of origin points\n",
        "destinations = [(26.266712, 73.010014), (26.271594, 73.015733), (26.267382, 73.019237), (26.273162, 73.020501)]  # Add the latitude and longitude of destination points\n"
      ],
      "metadata": {
        "id": "JJcO-twAtQ8E"
      },
      "execution_count": 36,
      "outputs": []
    },
    {
      "cell_type": "markdown",
      "source": [
        "Intialization of OD Matrix"
      ],
      "metadata": {
        "id": "Rr_9LK-uzJgw"
      }
    },
    {
      "cell_type": "code",
      "source": [
        "# Create a matrix to store the OD values\n",
        "od_matrix = np.zeros((len(origins), len(destinations)))\n"
      ],
      "metadata": {
        "id": "JpNmcJobtRJr"
      },
      "execution_count": 37,
      "outputs": []
    },
    {
      "cell_type": "code",
      "source": [
        "# Iterate over each origin and destination pair and calculate the OD values\n",
        "for i, origin in enumerate(origins):\n",
        "    for j, destination in enumerate(destinations):\n",
        "        # Perform calculations to determine OD values\n",
        "        od_value = calculate_od_value(origin, destination)  # Replace with your own calculation logic\n",
        "        od_matrix[i, j] = od_value"
      ],
      "metadata": {
        "id": "Wfamwq0ttROp"
      },
      "execution_count": 38,
      "outputs": []
    },
    {
      "cell_type": "code",
      "source": [
        "pip install --upgrade folium\n"
      ],
      "metadata": {
        "colab": {
          "base_uri": "https://localhost:8080/"
        },
        "id": "BialJ4FdtRSE",
        "outputId": "5ba9999a-b0fb-44d3-bafa-edbed1c15cf7"
      },
      "execution_count": 39,
      "outputs": [
        {
          "output_type": "stream",
          "name": "stdout",
          "text": [
            "Looking in indexes: https://pypi.org/simple, https://us-python.pkg.dev/colab-wheels/public/simple/\n",
            "Requirement already satisfied: folium in /usr/local/lib/python3.10/dist-packages (0.14.0)\n",
            "Requirement already satisfied: branca>=0.6.0 in /usr/local/lib/python3.10/dist-packages (from folium) (0.6.0)\n",
            "Requirement already satisfied: jinja2>=2.9 in /usr/local/lib/python3.10/dist-packages (from folium) (3.1.2)\n",
            "Requirement already satisfied: numpy in /usr/local/lib/python3.10/dist-packages (from folium) (1.22.4)\n",
            "Requirement already satisfied: requests in /usr/local/lib/python3.10/dist-packages (from folium) (2.27.1)\n",
            "Requirement already satisfied: MarkupSafe>=2.0 in /usr/local/lib/python3.10/dist-packages (from jinja2>=2.9->folium) (2.1.2)\n",
            "Requirement already satisfied: urllib3<1.27,>=1.21.1 in /usr/local/lib/python3.10/dist-packages (from requests->folium) (1.26.15)\n",
            "Requirement already satisfied: certifi>=2017.4.17 in /usr/local/lib/python3.10/dist-packages (from requests->folium) (2022.12.7)\n",
            "Requirement already satisfied: charset-normalizer~=2.0.0 in /usr/local/lib/python3.10/dist-packages (from requests->folium) (2.0.12)\n",
            "Requirement already satisfied: idna<4,>=2.5 in /usr/local/lib/python3.10/dist-packages (from requests->folium) (3.4)\n"
          ]
        }
      ]
    },
    {
      "cell_type": "markdown",
      "source": [
        "Creating Folium map of City using foilum Python library "
      ],
      "metadata": {
        "id": "YjbaXWTqzVzc"
      }
    },
    {
      "cell_type": "code",
      "source": [
        "# Create a Folium map and add the OD matrix as a heatmap layer\n",
        "center_lat, center_lon = np.mean(origins, axis=0)  # Calculate the center of the city using the mean of origin coordinates\n",
        "m = folium.Map(location=[center_lat, center_lon], zoom_start=12)\n",
        "heatmap_data = [[point[0], point[1], od_matrix[i, j]] for i, point in enumerate(origins) for j in range(len(destinations))]\n",
        "folium.FeatureGroup(name='Heatmap').add_child(folium.plugins.HeatMap(heatmap_data, radius=8)).add_to(m)\n"
      ],
      "metadata": {
        "colab": {
          "base_uri": "https://localhost:8080/"
        },
        "id": "Sf1jTYDKtZl9",
        "outputId": "938ba3cf-3916-48b9-e30a-c59eac657477"
      },
      "execution_count": 40,
      "outputs": [
        {
          "output_type": "execute_result",
          "data": {
            "text/plain": [
              "<folium.map.FeatureGroup at 0x7fbc72b03430>"
            ]
          },
          "metadata": {},
          "execution_count": 40
        }
      ]
    },
    {
      "cell_type": "markdown",
      "source": [
        "Saving map obtained"
      ],
      "metadata": {
        "id": "F0QBgCarzgtk"
      }
    },
    {
      "cell_type": "code",
      "source": [
        "\n",
        "# Save the map as an HTML file\n",
        "m.save('od_map_jodhpur.html')\n"
      ],
      "metadata": {
        "id": "rqoAsNGauASs"
      },
      "execution_count": 41,
      "outputs": []
    },
    {
      "cell_type": "markdown",
      "source": [
        "Downloading Map_Jodhpur"
      ],
      "metadata": {
        "id": "-m04463j0TV3"
      }
    },
    {
      "cell_type": "code",
      "source": [
        "from google.colab import files\n",
        "\n",
        "files.download('od_map_jodhpur.html')\n"
      ],
      "metadata": {
        "colab": {
          "base_uri": "https://localhost:8080/",
          "height": 17
        },
        "id": "-WAEEVSauoXR",
        "outputId": "1d2b00a2-ebd0-4b48-87ff-b01060ee44e6"
      },
      "execution_count": 42,
      "outputs": [
        {
          "output_type": "display_data",
          "data": {
            "text/plain": [
              "<IPython.core.display.Javascript object>"
            ],
            "application/javascript": [
              "\n",
              "    async function download(id, filename, size) {\n",
              "      if (!google.colab.kernel.accessAllowed) {\n",
              "        return;\n",
              "      }\n",
              "      const div = document.createElement('div');\n",
              "      const label = document.createElement('label');\n",
              "      label.textContent = `Downloading \"${filename}\": `;\n",
              "      div.appendChild(label);\n",
              "      const progress = document.createElement('progress');\n",
              "      progress.max = size;\n",
              "      div.appendChild(progress);\n",
              "      document.body.appendChild(div);\n",
              "\n",
              "      const buffers = [];\n",
              "      let downloaded = 0;\n",
              "\n",
              "      const channel = await google.colab.kernel.comms.open(id);\n",
              "      // Send a message to notify the kernel that we're ready.\n",
              "      channel.send({})\n",
              "\n",
              "      for await (const message of channel.messages) {\n",
              "        // Send a message to notify the kernel that we're ready.\n",
              "        channel.send({})\n",
              "        if (message.buffers) {\n",
              "          for (const buffer of message.buffers) {\n",
              "            buffers.push(buffer);\n",
              "            downloaded += buffer.byteLength;\n",
              "            progress.value = downloaded;\n",
              "          }\n",
              "        }\n",
              "      }\n",
              "      const blob = new Blob(buffers, {type: 'application/binary'});\n",
              "      const a = document.createElement('a');\n",
              "      a.href = window.URL.createObjectURL(blob);\n",
              "      a.download = filename;\n",
              "      div.appendChild(a);\n",
              "      a.click();\n",
              "      div.remove();\n",
              "    }\n",
              "  "
            ]
          },
          "metadata": {}
        },
        {
          "output_type": "display_data",
          "data": {
            "text/plain": [
              "<IPython.core.display.Javascript object>"
            ],
            "application/javascript": [
              "download(\"download_01aa2795-525e-40a7-b4f8-941a43bad4c3\", \"od_map_jodhpur.html\", 4333)"
            ]
          },
          "metadata": {}
        }
      ]
    },
    {
      "cell_type": "markdown",
      "source": [
        "Define the classes for multiclass vehicles"
      ],
      "metadata": {
        "id": "ZUM7UcUk0sAi"
      }
    },
    {
      "cell_type": "code",
      "source": [
        "# Define the classes for multiclass vehicles\n",
        "vehicle_classes = ['Car', 'Bus', 'Truck', 'Motorcycle']\n"
      ],
      "metadata": {
        "id": "CJSFV2Eox-0_"
      },
      "execution_count": 43,
      "outputs": []
    },
    {
      "cell_type": "markdown",
      "source": [
        " Define the latitude and longitude coordinates for origins and destinations"
      ],
      "metadata": {
        "id": "9kyHilTw05I-"
      }
    },
    {
      "cell_type": "code",
      "source": [
        "# Define the latitude and longitude coordinates for origins and destinations\n",
        "origins = [\n",
        "    (26.266712, 73.010014),\n",
        "    (26.271594, 73.015733),\n",
        "    (26.267382, 73.019237),\n",
        "    (26.273162, 73.020501),\n",
        "    (26.272427, 73.008131),\n",
        "    (26.275052, 73.012987),\n",
        "    (26.269826, 73.007718),\n",
        "    (26.269270, 73.018931)\n",
        "]\n",
        "\n",
        "destinations = [\n",
        "    (26.271594, 73.015733),\n",
        "    (26.267382, 73.019237),\n",
        "    (26.273162, 73.020501),\n",
        "        (26.273162, 73.020501),\n",
        "    (26.272427, 73.008131),\n",
        "    (26.275052, 73.012987),\n",
        "    (26.269826, 73.007718),\n",
        "    (26.269270, 73.018931)\n",
        "    \n",
        "]\n"
      ],
      "metadata": {
        "id": "vBZ5_p-yx-3j"
      },
      "execution_count": 44,
      "outputs": []
    },
    {
      "cell_type": "markdown",
      "source": [
        "Create a matrix to store the OD values for each class"
      ],
      "metadata": {
        "id": "kUd4aLwA1W7e"
      }
    },
    {
      "cell_type": "code",
      "source": [
        "\n",
        "# Create a matrix to store the OD values for each class\n",
        "od_matrix = np.zeros((len(origins), len(destinations), len(vehicle_classes)))\n"
      ],
      "metadata": {
        "id": "E1Pd7bVb1wk_"
      },
      "execution_count": 45,
      "outputs": []
    },
    {
      "cell_type": "markdown",
      "source": [
        "ORIGIN DESTINATION MATRIX FOR MULTICLASS VEHICLES"
      ],
      "metadata": {
        "id": "Q0KiU3ao1hDk"
      }
    },
    {
      "cell_type": "code",
      "source": [
        "# Iterate over each origin and destination pair\n",
        "for i, origin in enumerate(origins):\n",
        "    for j, destination in enumerate(destinations):\n",
        "        # Input the number of vehicles for each class from your side\n",
        "        for k, vehicle_class in enumerate(vehicle_classes):\n",
        "           # num_vehicles = int(input(f\"Enter the number of vehicles for {vehicle_class} from origin {origin} to destination {destination}: \"))\n",
        "           num_vehicles = random.randint(1, 10)\n",
        "           od_matrix[i, j, k] = num_vehicles\n",
        "\n",
        "# Print the OD matrix for each class\n",
        "for k, vehicle_class in enumerate(vehicle_classes):\n",
        "    print(f\"OD Matrix for {vehicle_class}:\")\n",
        "    print(od_matrix[:, :, k])\n",
        "    print()\n"
      ],
      "metadata": {
        "colab": {
          "base_uri": "https://localhost:8080/"
        },
        "id": "y_xpCsR71Vby",
        "outputId": "03433947-e18b-4e4a-c325-99a6721ffe72"
      },
      "execution_count": 46,
      "outputs": [
        {
          "output_type": "stream",
          "name": "stdout",
          "text": [
            "OD Matrix for Car:\n",
            "[[ 3.  6.  7.  5.  5. 10.  1.  4.]\n",
            " [ 4. 10.  2.  5. 10.  3.  2.  4.]\n",
            " [ 2. 10.  9.  8.  6.  9.  6.  3.]\n",
            " [ 3.  9.  4.  1. 10. 10.  3.  1.]\n",
            " [ 2.  6. 10.  6.  3.  2.  2.  3.]\n",
            " [ 1.  2.  9.  6.  1.  6.  7.  3.]\n",
            " [10.  7. 10.  5.  6.  6.  1. 10.]\n",
            " [ 5.  9.  2.  2.  3.  7.  8.  2.]]\n",
            "\n",
            "OD Matrix for Bus:\n",
            "[[ 1.  5. 10. 10.  5.  6.  9. 10.]\n",
            " [ 7. 10.  5.  6.  1.  7. 10.  5.]\n",
            " [ 5.  9.  6.  9.  2.  3.  6.  9.]\n",
            " [ 3.  8.  8.  9.  8.  8.  2.  2.]\n",
            " [ 4.  3.  5.  2.  3. 10.  9.  9.]\n",
            " [ 5.  9.  5.  6.  8.  4.  2.  9.]\n",
            " [10.  7.  9.  9.  2.  9.  5.  8.]\n",
            " [ 9.  9.  8.  6.  9.  9.  6.  5.]]\n",
            "\n",
            "OD Matrix for Truck:\n",
            "[[ 1.  4.  7.  9. 10.  6.  9.  6.]\n",
            " [ 6. 10.  9. 10.  4.  6.  3.  1.]\n",
            " [ 2.  9.  5. 10.  7.  6.  9.  2.]\n",
            " [ 4.  2. 10.  4.  5.  7.  8.  6.]\n",
            " [ 5.  4. 10.  6.  1.  4.  8.  8.]\n",
            " [ 3.  4.  3.  8.  7.  8.  8. 10.]\n",
            " [ 2.  5.  9.  6. 10.  3.  2.  5.]\n",
            " [ 1.  2. 10. 10.  5.  9.  4.  5.]]\n",
            "\n",
            "OD Matrix for Motorcycle:\n",
            "[[10.  2.  5.  8.  7.  5.  5.  2.]\n",
            " [ 6.  8. 10.  4.  2.  1.  8.  8.]\n",
            " [ 9.  9.  9.  2.  1.  8.  3.  9.]\n",
            " [ 2.  4.  2.  8.  3.  4.  3.  3.]\n",
            " [ 9.  2.  1.  7.  3.  7. 10.  4.]\n",
            " [10.  7.  1.  1.  5.  8.  4.  4.]\n",
            " [ 7.  7.  8.  3. 10.  4.  9.  9.]\n",
            " [10.  7.  8.  7.  6.  8.  5.  2.]]\n",
            "\n"
          ]
        }
      ]
    }
  ]
}